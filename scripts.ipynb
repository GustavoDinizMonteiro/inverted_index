{
 "cells": [
  {
   "cell_type": "code",
   "execution_count": 28,
   "metadata": {},
   "outputs": [],
   "source": [
    "import pandas as pd\n",
    "from collections import Counter\n",
    "\n",
    "data = pd.read_csv(\"estadao_news.csv\")"
   ]
  },
  {
   "cell_type": "code",
   "execution_count": 29,
   "metadata": {},
   "outputs": [],
   "source": [
    "data['articles'] = data['titulo']  + ' ' + data['conteudo']"
   ]
  },
  {
   "cell_type": "code",
   "execution_count": 30,
   "metadata": {},
   "outputs": [],
   "source": [
    "to_lower_case = lambda text: text.lower()"
   ]
  },
  {
   "cell_type": "code",
   "execution_count": 31,
   "metadata": {},
   "outputs": [],
   "source": [
    "tokenize = lambda row: row.split()"
   ]
  },
  {
   "cell_type": "code",
   "execution_count": 32,
   "metadata": {},
   "outputs": [],
   "source": [
    "data['articles'] = data['articles'].apply(to_lower_case)\n",
    "data['tokens'] = data['articles'].apply(tokenize)"
   ]
  },
  {
   "cell_type": "code",
   "execution_count": 33,
   "metadata": {},
   "outputs": [],
   "source": [
    "counter = lambda row: Counter(row)"
   ]
  },
  {
   "cell_type": "code",
   "execution_count": 81,
   "metadata": {},
   "outputs": [],
   "source": [
    "def count_frequence(article, token):\n",
    "    counter = Counter(article)\n",
    "    return counter[token]\n",
    "\n",
    "def summarize(matrix_of_tokens, docIds):\n",
    "    index = {}\n",
    "    for i in range(len(matrix_of_tokens)):\n",
    "        for token in matrix_of_tokens[i]:\n",
    "            if token in index.keys():\n",
    "                #index[token].append((docIds[i], count_frequence(matrix_of_tokens[i], token)))\n",
    "                index[token].append(docIds[i])\n",
    "            else:\n",
    "                #index[token] = [(docIds[i], count_frequence(matrix_of_tokens[i], token))]\n",
    "                index[token] = [docIds[i]]\n",
    "    \n",
    "    return index"
   ]
  },
  {
   "cell_type": "code",
   "execution_count": 82,
   "metadata": {},
   "outputs": [],
   "source": [
    "inverted_index = summarize(data['tokens'], data['idNoticia'])"
   ]
  },
  {
   "cell_type": "code",
   "execution_count": 83,
   "metadata": {},
   "outputs": [],
   "source": [
    "# Tests\n",
    "def search(query):\n",
    "    elements = query.split()\n",
    "    operation = elements[1]\n",
    "    \n",
    "    result = []\n",
    "    if operation == 'OR':\n",
    "        result = list(inverted_index.get(elements[0].lower(), []))\n",
    "        result.extend(list(inverted_index.get(elements[2].lower(), [])))\n",
    "    else:\n",
    "        result = set(inverted_index.get(elements[0].lower(), [])).intersection(inverted_index.get(elements[2].lower(), []))\n",
    "    \n",
    "    return set(result)\n",
    "\n",
    "assert len(search(\"debate OR presidencial\")) == 1770\n",
    "assert len(search(\"debate AND presidencial\")) == 201\n",
    "\n",
    "assert len(search(\"presidenciáveis OR corruptos\")) == 164\n",
    "assert len(search(\"presidenciáveis AND corruptos\")) == 0\n",
    "\n",
    "assert len(search(\"Belo OR Horizonte\")) == 331\n",
    "assert len(search(\"Belo AND Horizonte\")) == 242"
   ]
  },
  {
   "cell_type": "code",
   "execution_count": 96,
   "metadata": {},
   "outputs": [
    {
     "name": "stdout",
     "output_type": "stream",
     "text": [
      "2\n"
     ]
    }
   ],
   "source": [
    "def conjunctive_search(query):\n",
    "    elements = query.split()\n",
    "    elements = filter(lambda x: x != 'AND', elements)\n",
    "    \n",
    "    index = {}\n",
    "    for element in elements:\n",
    "        index[len(inverted_index[element])] = element\n",
    "    \n",
    "    ordered_frequence = sorted(index.keys())\n",
    "    \n",
    "    result = set(inverted_index[index[ordered_frequence[0]]])\n",
    "    for i in range(1, len(ordered_frequence)):\n",
    "        result = result.intersection(inverted_index[index[ordered_frequence[i]]])\n",
    "        \n",
    "    return result\n",
    "        \n",
    "\n",
    "print(len(conjunctive_search(\"inflação foi culpa do pt\")))\n",
    "print(len(conjunctive_search(\"inflação foi culpa do temer\")))"
   ]
  }
 ],
 "metadata": {
  "kernelspec": {
   "display_name": "Python 2",
   "language": "python",
   "name": "python2"
  },
  "language_info": {
   "codemirror_mode": {
    "name": "ipython",
    "version": 3
   },
   "file_extension": ".py",
   "mimetype": "text/x-python",
   "name": "python",
   "nbconvert_exporter": "python",
   "pygments_lexer": "ipython3",
   "version": "3.5.2"
  }
 },
 "nbformat": 4,
 "nbformat_minor": 2
}
