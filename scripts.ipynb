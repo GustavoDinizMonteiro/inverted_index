{
 "cells": [
  {
   "cell_type": "code",
   "execution_count": 31,
   "metadata": {},
   "outputs": [
    {
     "name": "stdout",
     "output_type": "stream",
     "text": [
      "[nltk_data] Downloading package punkt to /home/gustavodm/nltk_data...\n",
      "[nltk_data]   Package punkt is already up-to-date!\n"
     ]
    }
   ],
   "source": [
    "import nltk\n",
    "import pandas as pd\n",
    "from collections import Counter\n",
    "from typing import List, Dict, Set\n",
    "\n",
    "nltk.download('punkt')\n",
    "\n",
    "# importing dependencies and load data.\n",
    "data = pd.read_csv(\"estadao_news.csv\")"
   ]
  },
  {
   "cell_type": "code",
   "execution_count": 32,
   "metadata": {
    "collapsed": true
   },
   "outputs": [],
   "source": [
    "# joyning column of title of artile with column of content.\n",
    "data['articles'] = data['titulo']  + ' ' + data['conteudo']"
   ]
  },
  {
   "cell_type": "code",
   "execution_count": 33,
   "metadata": {
    "collapsed": true
   },
   "outputs": [],
   "source": [
    "# lambda funcion to normalize text to lower case.\n",
    "to_lower_case = lambda text: text.lower()"
   ]
  },
  {
   "cell_type": "code",
   "execution_count": 34,
   "metadata": {
    "collapsed": true
   },
   "outputs": [],
   "source": [
    "# lambda function to split text in tokens.\n",
    "tokenize = lambda row: row.split()"
   ]
  },
  {
   "cell_type": "code",
   "execution_count": 35,
   "metadata": {
    "collapsed": true
   },
   "outputs": [],
   "source": [
    "# normalizing and tokenizing articles.\n",
    "data['articles'] = data['articles'].apply(to_lower_case)\n",
    "data['tokens'] = data['articles'].apply(tokenize)"
   ]
  },
  {
   "cell_type": "code",
   "execution_count": 36,
   "metadata": {
    "collapsed": true
   },
   "outputs": [],
   "source": [
    "# lambda function to summarize frequence of token in a article.\n",
    "counter = lambda row: Counter(row)"
   ]
  },
  {
   "cell_type": "code",
   "execution_count": 37,
   "metadata": {
    "collapsed": true
   },
   "outputs": [],
   "source": [
    "def count_frequence(article: str, token: str) -> Counter:\n",
    "    \"\"\"\n",
    "        Count frequence of token in a specified article.\n",
    "    \"\"\"\n",
    "    counter = Counter(article)\n",
    "    return counter[token]\n",
    "\n",
    "def summarize(matrix_of_tokens: List[str], docIds: List):\n",
    "    \"\"\"\n",
    "        param matrix_of_tokens: matrix of article tokens lists.\n",
    "        param docIds: list of document ids of all articles.\n",
    "        \n",
    "        Create a inverted index with all tokens and yours docIds.\n",
    "    \"\"\"\n",
    "    index = {}\n",
    "    for i in range(len(matrix_of_tokens)):\n",
    "        for token in matrix_of_tokens[i]:\n",
    "            if token in index.keys():\n",
    "                index[token].append(docIds[i])\n",
    "            else:\n",
    "                index[token] = [docIds[i]]\n",
    "    \n",
    "    return index"
   ]
  },
  {
   "cell_type": "code",
   "execution_count": 38,
   "metadata": {
    "collapsed": true
   },
   "outputs": [],
   "source": [
    "# applying summarization to articles to produce inverted index.\n",
    "inverted_index = summarize(data['tokens'], data['idNoticia'])"
   ]
  },
  {
   "cell_type": "code",
   "execution_count": 39,
   "metadata": {
    "collapsed": true
   },
   "outputs": [],
   "source": [
    "DISJUNCTION = 'OR'\n",
    "FIRST_WORD_INDEX = 0\n",
    "SECOND_WORD_INDEX = 2\n",
    "QUERY_INDEX = 1\n",
    "\n",
    "def calc_word_distance(str1, str2):\n",
    "    return nltk.edit_distance(str1, str2)\n",
    "\n",
    "def get_more_sismilar_word(word):\n",
    "    tokens = inverted_index.keys()\n",
    "    candidate = {\n",
    "        'token': None,\n",
    "        'distance': None\n",
    "    }\n",
    "    for token in tokens:\n",
    "        distance = calc_word_distance(word, token)\n",
    "        if distance == 1: return token\n",
    "        \n",
    "        if candidate['distance'] == None:\n",
    "            candidate['token'] = token\n",
    "            candidate['distance'] = distance\n",
    "        elif distance < candidate['distance']:\n",
    "            candidate['token'] = token\n",
    "            candidate['distance'] = distance\n",
    "    \n",
    "    return candidate['token']\n",
    "\n",
    "def get_index_value(word):\n",
    "    word = word.lower()\n",
    "    if word in inverted_index.keys():\n",
    "        return inverted_index.get(word)\n",
    "    \n",
    "    similar_word = get_more_sismilar_word(word)\n",
    "    return inverted_index.get(similar_word)\n",
    "\n",
    "def search(query: str) -> Set[str]:\n",
    "    \"\"\"\n",
    "        param query: Query with two elements that will be searched in\n",
    "                     inverted index and between them a conjunction or disjunction.\n",
    "                     Example: \"<word1> AND/OR <word2>\"\n",
    "        returns: Return result of query execution on inverted index.\n",
    "    \"\"\"\n",
    "    elements = query.split()\n",
    "    operation = elements[QUERY_INDEX]\n",
    "    \n",
    "    result = []\n",
    "    if operation == DISJUNCTION:\n",
    "        result = list(get_index_value(elements[FIRST_WORD_INDEX]))\n",
    "        result.extend(list(get_index_value(elements[SECOND_WORD_INDEX])))\n",
    "    else:\n",
    "        result = set(get_index_value(elements[FIRST_WORD_INDEX])).intersection((\n",
    "                    get_index_value(elements[SECOND_WORD_INDEX])\n",
    "                 ))\n",
    "    \n",
    "    return set(result)"
   ]
  },
  {
   "cell_type": "code",
   "execution_count": 40,
   "metadata": {
    "collapsed": true
   },
   "outputs": [],
   "source": [
    "# Tests by assertion.\n",
    "\n",
    "assert len(search(\"debate OR presidencial\")) == 1770\n",
    "assert len(search(\"debate AND presidencia\")) == 201\n",
    "\n",
    "assert len(search(\"presidenciáveis OR corruptos\")) == 164\n",
    "assert len(search(\"presidenciáveis AND corruptos\")) == 0\n",
    "\n",
    "assert len(search(\"Belo OR Horizonte\")) == 331\n",
    "assert len(search(\"Belo AND Horizonte\")) == 242"
   ]
  },
  {
   "cell_type": "code",
   "execution_count": 41,
   "metadata": {},
   "outputs": [
    {
     "name": "stdout",
     "output_type": "stream",
     "text": [
      "12\n",
      "2\n"
     ]
    }
   ],
   "source": [
    "def conjunctive_search(query: str) -> int:\n",
    "    \"\"\"\n",
    "        param query: Query with n words that will be searched in\n",
    "                 inverted index separated by space.\n",
    "                 Example: \"<word1> <word2> <word3> <word4>\"\n",
    "                 \n",
    "        returns: Return result of conjunction of the search between \n",
    "                 all words on inverted index.\n",
    "    \"\"\"\n",
    "    elements = query.split()\n",
    "    \n",
    "    index = {}\n",
    "    for element in elements:\n",
    "        index[len(inverted_index[element])] = element\n",
    "    \n",
    "    ordered_frequence = sorted(index.keys())\n",
    "    \n",
    "    # conjuntion between result of all elements.\n",
    "    result = set(inverted_index[index[ordered_frequence[0]]])\n",
    "    for i in range(1, len(ordered_frequence)):\n",
    "        result = result.intersection(inverted_index[index[ordered_frequence[i]]])\n",
    "        \n",
    "    return result\n",
    "        \n",
    "\n",
    "print(len(conjunctive_search(\"inflação foi culpa do pt\")))\n",
    "print(len(conjunctive_search(\"inflação foi culpa do temer\")))"
   ]
  }
 ],
 "metadata": {
  "kernelspec": {
   "display_name": "Python 3",
   "language": "python",
   "name": "python3"
  },
  "language_info": {
   "codemirror_mode": {
    "name": "ipython",
    "version": 3
   },
   "file_extension": ".py",
   "mimetype": "text/x-python",
   "name": "python",
   "nbconvert_exporter": "python",
   "pygments_lexer": "ipython3",
   "version": "3.6.2"
  }
 },
 "nbformat": 4,
 "nbformat_minor": 2
}
