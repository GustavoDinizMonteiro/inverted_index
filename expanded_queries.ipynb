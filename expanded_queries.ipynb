{
 "cells": [
  {
   "cell_type": "code",
   "execution_count": 1,
   "metadata": {},
   "outputs": [],
   "source": [
    "import pandas\n",
    "\n",
    "from typing import List, Dict\n",
    "from unidecode import unidecode\n",
    "\n",
    "# loading dependencies\n",
    "data = pandas.read_csv(\"estadao_noticias_eleicao.csv\")"
   ]
  },
  {
   "cell_type": "code",
   "execution_count": 2,
   "metadata": {},
   "outputs": [],
   "source": [
    "# cleaning null data\n",
    "data = data.fillna('')"
   ]
  },
  {
   "cell_type": "code",
   "execution_count": 3,
   "metadata": {},
   "outputs": [],
   "source": [
    "# joyning column of title and sub-title of artile with column of content.\n",
    "data['articles'] = data['titulo']  + ' ' + data['subTitulo'] + ' ' + data['conteudo']\n",
    "\n",
    "# lambda funcion to normalize text to lower case.\n",
    "normalize = lambda text: unidecode(text.lower())\n",
    "\n",
    "# lambda function to split text in tokens.\n",
    "tokenize = lambda row: row.split()\n",
    "\n",
    "# normalizing and tokenizing articles.\n",
    "data['articles'] = data['articles'].apply(normalize)\n",
    "data['tokens'] = data['articles'].apply(tokenize)"
   ]
  },
  {
   "cell_type": "code",
   "execution_count": 12,
   "metadata": {},
   "outputs": [],
   "source": [
    "def create_index(matrix_of_tokens: List[str], doc_ids: List[int]) -> Dict[str, List[int]]:\n",
    "    \"\"\"Create a inverted index with all tokens and yours document Ids.\n",
    "    :param matrix_of_tokens: matrix of article tokens lists.\n",
    "    :param doc_ids: list of document ids of all articles.\n",
    "    :returns: A inverted index with all tokens and yours document Ids.\n",
    "    \"\"\"\n",
    "    index = {}\n",
    "    for i in range(len(matrix_of_tokens)):\n",
    "        for token in set(matrix_of_tokens[i]):\n",
    "            if token in index.keys():\n",
    "                index[token].append(doc_ids[i])\n",
    "            else:\n",
    "                index[token] = [doc_ids[i]]\n",
    "    return index"
   ]
  },
  {
   "cell_type": "code",
   "execution_count": 13,
   "metadata": {},
   "outputs": [],
   "source": [
    "# creating the inverted index\n",
    "inverted_index = create_index(data['tokens'], data['idNoticia'])"
   ]
  }
 ],
 "metadata": {
  "kernelspec": {
   "display_name": "Python 3",
   "language": "python",
   "name": "python3"
  },
  "language_info": {
   "codemirror_mode": {
    "name": "ipython",
    "version": 3
   },
   "file_extension": ".py",
   "mimetype": "text/x-python",
   "name": "python",
   "nbconvert_exporter": "python",
   "pygments_lexer": "ipython3",
   "version": "3.6.5"
  }
 },
 "nbformat": 4,
 "nbformat_minor": 2
}
