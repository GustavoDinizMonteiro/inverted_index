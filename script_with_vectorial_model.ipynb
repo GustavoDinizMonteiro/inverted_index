{
 "cells": [
  {
   "cell_type": "code",
   "execution_count": 1,
   "metadata": {},
   "outputs": [
    {
     "ename": "SyntaxError",
     "evalue": "invalid syntax (common.py, line 221)",
     "output_type": "error",
     "traceback": [
      "Traceback \u001b[0;36m(most recent call last)\u001b[0m:\n",
      "  File \u001b[1;32m\"/opt/anaconda/anaconda3/lib/python3.6/site-packages/IPython/core/interactiveshell.py\"\u001b[0m, line \u001b[1;32m2862\u001b[0m, in \u001b[1;35mrun_code\u001b[0m\n    exec(code_obj, self.user_global_ns, self.user_ns)\n",
      "\u001b[0;36m  File \u001b[0;32m\"<ipython-input-1-a1f561f45165>\"\u001b[0;36m, line \u001b[0;32m1\u001b[0;36m, in \u001b[0;35m<module>\u001b[0;36m\u001b[0m\n\u001b[0;31m    from common import *\u001b[0m\n",
      "\u001b[0;36m  File \u001b[0;32m\"/home/luizfds/Documentos/inverted_index/common.py\"\u001b[0;36m, line \u001b[0;32m221\u001b[0m\n\u001b[0;31m    index = index.values()\u001b[0m\n\u001b[0m        ^\u001b[0m\n\u001b[0;31mSyntaxError\u001b[0m\u001b[0;31m:\u001b[0m invalid syntax\n"
     ]
    }
   ],
   "source": [
    "from common import *\n",
    "\n",
    "# importing dependencies and load data.\n",
    "data = load_data_from_cvs(\"estadao_noticias_eleicao.csv\")"
   ]
  },
  {
   "cell_type": "code",
   "execution_count": null,
   "metadata": {
    "collapsed": true
   },
   "outputs": [],
   "source": [
    "data = data.fillna('')"
   ]
  },
  {
   "cell_type": "code",
   "execution_count": null,
   "metadata": {
    "collapsed": true
   },
   "outputs": [],
   "source": [
    "# joyning column of title and sub-title of artile with column of content.\n",
    "data['articles'] = data['titulo']  + ' ' + data['subTitulo'] + ' ' + data['conteudo']"
   ]
  },
  {
   "cell_type": "code",
   "execution_count": null,
   "metadata": {},
   "outputs": [],
   "source": [
    "# normalizing and tokenizing articles.\n",
    "data['articles'] = data['articles'].apply(normalize)\n",
    "data['tokens'] = data['articles'].apply(tokenize)"
   ]
  },
  {
   "cell_type": "code",
   "execution_count": null,
   "metadata": {
    "collapsed": true
   },
   "outputs": [],
   "source": [
    "# applying summarization to articles to produce inverted index.\n",
    "inverted_index = summarize(data['tokens'], data['idNoticia'])"
   ]
  },
  {
   "cell_type": "code",
   "execution_count": null,
   "metadata": {
    "collapsed": true
   },
   "outputs": [],
   "source": [
    "search_with_vectorial_model('segundo turno', inverted_index)"
   ]
  },
  {
   "cell_type": "code",
   "execution_count": null,
   "metadata": {
    "collapsed": true
   },
   "outputs": [],
   "source": [
    "search_with_tf('segundo turno', inverted_index)"
   ]
  },
  {
   "cell_type": "code",
   "execution_count": null,
   "metadata": {
    "collapsed": true
   },
   "outputs": [],
   "source": [
    "search_with_tf_idf('segundo turno', inverted_index)"
   ]
  },
  {
   "cell_type": "code",
   "execution_count": null,
   "metadata": {
    "collapsed": true
   },
   "outputs": [],
   "source": [
    "search_with_bm25('segundo turno', inverted_index)"
   ]
  },
  {
   "cell_type": "code",
   "execution_count": 5,
   "metadata": {},
   "outputs": [],
   "source": [
    "import numpy as np\n",
    "\n",
    "def apk(actual, predicted, k=10):\n",
    "    \"\"\"\n",
    "    Computes the average precision at k.\n",
    "    This function computes the average prescision at k between two lists of\n",
    "    items.\n",
    "    Parameters\n",
    "    ----------\n",
    "    actual : list\n",
    "             A list of elements that are to be predicted (order doesn't matter)\n",
    "    predicted : list\n",
    "                A list of predicted elements (order does matter)\n",
    "    k : int, optional\n",
    "        The maximum number of predicted elements\n",
    "    Returns\n",
    "    -------\n",
    "    score : double\n",
    "            The average precision at k over the input lists\n",
    "    \"\"\"\n",
    "    if len(predicted)>k:\n",
    "        predicted = predicted[:k]\n",
    "\n",
    "    score = 0.0\n",
    "    num_hits = 0.0\n",
    "\n",
    "    for i,p in enumerate(predicted):\n",
    "        if p in actual and p not in predicted[:i]:\n",
    "            num_hits += 1.0\n",
    "            score += num_hits / (i+1.0)\n",
    "\n",
    "    if not actual:\n",
    "        return 0.0\n",
    "\n",
    "    return score / min(len(actual), k)\n",
    "\n",
    "def mapk(actual, predicted, k=10):\n",
    "    \"\"\"\n",
    "    Computes the mean average precision at k.\n",
    "    This function computes the mean average prescision at k between two lists\n",
    "    of lists of items.\n",
    "    Parameters\n",
    "    ----------\n",
    "    actual : list\n",
    "             A list of lists of elements that are to be predicted \n",
    "             (order doesn't matter in the lists)\n",
    "    predicted : list\n",
    "                A list of lists of predicted elements\n",
    "                (order matters in the lists)\n",
    "    k : int, optional\n",
    "        The maximum number of predicted elements\n",
    "    Returns\n",
    "    -------\n",
    "    score : double\n",
    "            The mean average precision at k over the input lists\n",
    "    \"\"\"\n",
    "    return np.mean([apk(a,p,k) for a,p in zip(actual, predicted)])"
   ]
  },
  {
   "cell_type": "code",
   "execution_count": 28,
   "metadata": {},
   "outputs": [
    {
     "name": "stdout",
     "output_type": "stream",
     "text": [
      "Precisão para consulta 'segundo turno' usando busca binaria 20.00%\n",
      "Precisão para consulta 'segundo turno' usando busca binaria 80.00%\n",
      "Precisão para consulta 'segundo turno' usando busca binaria 48.33%\n",
      "Precisão para consulta 'segundo turno' usando busca binaria 100.00%\n"
     ]
    }
   ],
   "source": [
    "import pandas\n",
    "import ast\n",
    "gabarito = pandas.read_csv('gabarito.csv')\n",
    "\n",
    "to_array = lambda text: ast.literal_eval(text)\n",
    "\n",
    "# parsing string to array\n",
    "gabarito.busca_binaria = gabarito.busca_binaria.apply(to_array)\n",
    "gabarito.tf = gabarito.tf.apply(to_array)\n",
    "gabarito.tfidf = gabarito.tfidf.apply(to_array)\n",
    "gabarito.bm25 = gabarito.bm25.apply(to_array)\n",
    "\n",
    "\n",
    "# create a dataframe with results\n",
    "suaresposta = {'str_busca': 'segundo turno', 'busca_binaria': [[1, 2, 3, 7, 8]], 'tf': [[2744, 7, 2112, 2388, 1052]],\n",
    "              'tfidf': [[2744, 7, 2112, 2388, 1052]], 'bm25': [[2744,2112, 7672, 2388, 2178]]}\n",
    "suaresposta = pandas.DataFrame(data=suaresposta)\n",
    "\n",
    "\n",
    "print(\"Precisão para consulta 'segundo turno' usando busca binaria %.2f%%\" % (100 * mapk(gabarito.busca_binaria, suaresposta.busca_binaria, k=5)))\n",
    "\n",
    "print(\"Precisão para consulta 'segundo turno' usando busca binaria %.2f%%\" % (100 * mapk(gabarito.tf, suaresposta.tf, k=5)))\n",
    "\n",
    "print(\"Precisão para consulta 'segundo turno' usando busca binaria %.2f%%\" % (100 * mapk(gabarito.tfidf, suaresposta.tfidf, k=5)))\n",
    "\n",
    "print(\"Precisão para consulta 'segundo turno' usando busca binaria %.2f%%\" % (100 * mapk(gabarito.bm25, suaresposta.bm25, k=5)))"
   ]
  }
 ],
 "metadata": {
  "kernelspec": {
   "display_name": "Python 3",
   "language": "python",
   "name": "python3"
  },
  "language_info": {
   "codemirror_mode": {
    "name": "ipython",
    "version": 3
   },
   "file_extension": ".py",
   "mimetype": "text/x-python",
   "name": "python",
   "nbconvert_exporter": "python",
   "pygments_lexer": "ipython3",
   "version": "3.6.2"
  }
 },
 "nbformat": 4,
 "nbformat_minor": 2
}
