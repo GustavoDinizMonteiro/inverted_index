{
 "cells": [
  {
   "cell_type": "code",
   "execution_count": 19,
   "metadata": {},
   "outputs": [
    {
     "data": {
      "text/plain": [
       "[matrix([[ 0.00316083]]),\n",
       " matrix([[ 0.003088]]),\n",
       " matrix([[ 0.00290815]]),\n",
       " matrix([[ 0.00290815]]),\n",
       " matrix([[ 0.00106494]]),\n",
       " matrix([[ 0.00036155]])]"
      ]
     },
     "execution_count": 19,
     "metadata": {},
     "output_type": "execute_result"
    }
   ],
   "source": [
    "import numpy\n",
    "import pandas\n",
    "\n",
    "field = ['SOURCE', 'TARGET', 'RATING', 'TIME']\n",
    "\n",
    "a = numpy.matrix([\n",
    "    [0,0,0,0,0,0],\n",
    "    [1,0,1/3,1/3,1/4,0],\n",
    "    [0,1/3,0,1/3,1/4,0],\n",
    "    [0,1/3,1/3,0,1/4,0],\n",
    "    [0,1/3,1/3,1/3,0,0],\n",
    "    [0,0,0,0,1/4,0]\n",
    "])\n",
    "\n",
    "b = (1/6) * numpy.matrix([[1]*6]*6)\n",
    "\n",
    "m = 0.85*a + 0.15*b\n",
    "\n",
    "v = (1/6) * numpy.matrix([[1] for i in range(6)])\n",
    "\n",
    "count = 0\n",
    "\n",
    "def pagehank(v):\n",
    "    global count\n",
    "    if sum(abs(m*v-v)) > 0.001:\n",
    "        count +=1\n",
    "        return pagehank(m*v)\n",
    "    else:\n",
    "        count += 1\n",
    "        return m*v\n",
    "    \n",
    "\n",
    "result = pagehank(v)\n",
    "\n",
    "sorted(result, reverse=True)"
   ]
  },
  {
   "cell_type": "code",
   "execution_count": 26,
   "metadata": {},
   "outputs": [
    {
     "name": "stdout",
     "output_type": "stream",
     "text": [
      "[[  6.00000000e+00   5.00000000e+00   2.00000000e+00   1.28924194e+09]\n",
      " [  1.00000000e+00   1.50000000e+01   1.00000000e+00   1.28924314e+09]\n",
      " [  4.00000000e+00   3.00000000e+00   7.00000000e+00   1.28924528e+09]\n",
      " ..., \n",
      " [  2.73100000e+03   4.89700000e+03   5.00000000e+00   1.45367943e+09]\n",
      " [  1.30000000e+01   1.12800000e+03   1.00000000e+00   1.45367963e+09]\n",
      " [  1.12800000e+03   1.30000000e+01   2.00000000e+00   1.45368432e+09]]\n"
     ]
    }
   ],
   "source": [
    "a = pandas.read_csv(\"soc-sign-bitcoinotc.csv\")\n",
    "a = numpy.matrix(a)\n",
    "\n",
    "heigth, width = a.shape\n",
    "\n",
    "b = (1/6) * numpy.matrix([[1]*width]*heigth)\n",
    "\n",
    "m = 0.85*a + 0.15*b\n",
    "\n",
    "v = (1/6) * numpy.matrix([[1] for i in range(heigth)])\n",
    "\n",
    "result = pagehank(v)\n",
    "\n",
    "sorted(result, reverse=True)"
   ]
  }
 ],
 "metadata": {
  "kernelspec": {
   "display_name": "Python 3",
   "language": "python",
   "name": "python3"
  },
  "language_info": {
   "codemirror_mode": {
    "name": "ipython",
    "version": 3
   },
   "file_extension": ".py",
   "mimetype": "text/x-python",
   "name": "python",
   "nbconvert_exporter": "python",
   "pygments_lexer": "ipython3",
   "version": "3.6.2"
  }
 },
 "nbformat": 4,
 "nbformat_minor": 2
}
